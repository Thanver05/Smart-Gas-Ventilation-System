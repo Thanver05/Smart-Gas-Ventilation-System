{
  "nbformat": 4,
  "nbformat_minor": 0,
  "metadata": {
    "colab": {
      "provenance": [],
      "gpuType": "T4",
      "authorship_tag": "ABX9TyNYZ/bpjjC9zkwsK7aVVODN",
      "include_colab_link": true
    },
    "kernelspec": {
      "name": "python3",
      "display_name": "Python 3"
    },
    "language_info": {
      "name": "python"
    },
    "accelerator": "GPU"
  },
  "cells": [
    {
      "cell_type": "markdown",
      "metadata": {
        "id": "view-in-github",
        "colab_type": "text"
      },
      "source": [
        "<a href=\"https://colab.research.google.com/github/Thanver05/Smart-Gas-Ventilation-System/blob/main/ChatBot.ipynb\" target=\"_parent\"><img src=\"https://colab.research.google.com/assets/colab-badge.svg\" alt=\"Open In Colab\"/></a>"
      ]
    },
    {
      "cell_type": "code",
      "source": [
        "import requests\n",
        "import os\n",
        "\n",
        "# ðŸ”‘ Replace with your actual Groq API key or use environment variable\n",
        "\n",
        "GROQ_API_KEY = os.getenv(\"GROQ_API_KEY\", \"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\")\n",
        "\n",
        "# ðŸ¤– Choose the model: Mixtral is smart and fast!\n",
        "MODEL = \"llama3-8b-8192\"\n",
        "\n",
        "# ðŸ” Chat loop\n",
        "print(\"ðŸŸ¢ Groq Terminal ChatBot - Type 'exit' to quit\")\n",
        "\n",
        "chat_history = []\n",
        "\n",
        "while True:\n",
        "    user_input = input(\"ðŸ‘¤ You: \")\n",
        "    if user_input.lower() == \"exit\":\n",
        "        print(\"ðŸ‘‹ Exiting chat. Bye!\")\n",
        "        break\n",
        "\n",
        "    # Add user message to chat history\n",
        "    chat_history.append({\"role\": \"user\", \"content\": user_input})\n",
        "\n",
        "    response = requests.post(\n",
        "        \"https://api.groq.com/openai/v1/chat/completions\",\n",
        "        headers={\n",
        "            \"Authorization\": f\"Bearer {GROQ_API_KEY}\",\n",
        "            \"Content-Type\": \"application/json\"\n",
        "        },\n",
        "        json={\n",
        "            \"model\": MODEL,\n",
        "            \"messages\": chat_history\n",
        "        }\n",
        "    )\n",
        "\n",
        "    if response.status_code == 200:\n",
        "        reply = response.json()[\"choices\"][0][\"message\"][\"content\"]\n",
        "        print(\"ðŸ¤– GroqBot:\", reply)\n",
        "        chat_history.append({\"role\": \"assistant\", \"content\": reply})\n",
        "    else:\n",
        "        print(\"âŒ Error:\", response.status_code, response.text)"
      ],
      "metadata": {
        "colab": {
          "base_uri": "https://localhost:8080/"
        },
        "id": "T6iTyVSH4JlD",
        "outputId": "e6521568-2c95-468d-cef6-cb9baeca6316"
      },
      "execution_count": 1,
      "outputs": [
        {
          "output_type": "stream",
          "name": "stdout",
          "text": [
            "ðŸŸ¢ Groq Terminal ChatBot - Type 'exit' to quit\n",
            "ðŸ‘¤ You: vanakkam\n",
            "ðŸ¤– GroqBot: Vanakkam! That's a traditional Tamil greeting, which roughly translates to \"goodday\" or \"hello\". How are you today?\n",
            "ðŸ‘¤ You: where I am located\n",
            "ðŸ¤– GroqBot: I'm not designed to pinpoint exact locations using language models alone. However, I can try to make an educated guess!\n",
            "\n",
            "Since you used the Tamil greeting \"Vanakkam\", I'm assuming you might be located in a region with significant Tamil population or have a connection to the Tamil culture.\n",
            "\n",
            "Could you give me a hint or provide more context about your location, such as your country, city, or region? I'll do my best to help!\n",
            "ðŸ‘¤ You: what is the initial of akash\n",
            "ðŸ¤– GroqBot: The initials of the name \"Akash\" are typically A-K.\n",
            "ðŸ‘¤ You: exit\n",
            "ðŸ‘‹ Exiting chat. Bye!\n"
          ]
        }
      ]
    }
  ]
}